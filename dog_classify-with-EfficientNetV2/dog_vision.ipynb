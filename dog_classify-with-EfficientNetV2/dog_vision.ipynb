{
 "cells": [
  {
   "cell_type": "markdown",
   "metadata": {
    "colab_type": "text",
    "id": "view-in-github"
   },
   "source": [
    "<a href=\"https://colab.research.google.com/github/hhhaiii/dog_vision-with-tensorflow/blob/main/dog_vision.ipynb\" target=\"_parent\"><img src=\"https://colab.research.google.com/assets/colab-badge.svg\" alt=\"Open In Colab\"/></a>"
   ]
  },
  {
   "cell_type": "code",
   "execution_count": null,
   "metadata": {
    "id": "dmqETXdfvg_v"
   },
   "outputs": [],
   "source": [
    "!unzip \"drive/MyDrive/dog-vision/dog-breed-identification.zip\" -d \"drive/MyDrive/dog-vision/\""
   ]
  },
  {
   "cell_type": "markdown",
   "metadata": {
    "id": "M5nVH-geuHDN"
   },
   "source": [
    "# Classification dog breed\n",
    " 1. Problem: Xác định các giống chó từ hình ảnh\n",
    " 2. Data: Lấy data từ Kaggle\n",
    "\n",
    " https://kaggle.com/c/dog-breed-identification/data\n",
    " 3. Evaluation: file chứa các kết quả dự đoán\n",
    "\n",
    " https://www.kaggle.com/competitions/dog-breed-identification/overview/evaluation\n",
    " 4. Feature: Một vài thông tin về data.\n",
    " * Dữ liệu phi cấu trúc (hình ảnh)\n",
    " * 120 kết quả output (120 giống chó)\n",
    " * Bộ dữ liệu 10222 hình ảnh"
   ]
  },
  {
   "cell_type": "code",
   "execution_count": null,
   "metadata": {
    "id": "5bcfdu_8uYMY"
   },
   "outputs": [],
   "source": [
    "import tensorflow as tf\n",
    "import tensorflow_hub as hub\n",
    "import pandas as pd\n",
    "import numpy as np\n",
    "import matplotlib.pyplot as plt\n",
    "import os\n",
    "from IPython.display import Image\n",
    "print(\"GPU\",\"availabe\" if tf.config.list_physical_devices(\"GPU\") else \"no\")"
   ]
  },
  {
   "cell_type": "markdown",
   "metadata": {
    "id": "pdoH88n1xlTg"
   },
   "source": [
    "## Xử lý label sang matrix\n",
    "  1. Chuyển đổi breed\n",
    "  2. Chuyển đổi id"
   ]
  },
  {
   "cell_type": "code",
   "execution_count": null,
   "metadata": {
    "id": "SY4hgzUknLmj"
   },
   "outputs": [],
   "source": [
    "label_csv = pd.read_csv(\"drive/MyDrive/dog-vision/labels.csv\")\n",
    "breed = label_csv[\"breed\"].to_numpy()\n",
    "label = np.unique(breed)\n",
    "boolen_breed = [boolen == label for boolen in breed]"
   ]
  },
  {
   "cell_type": "code",
   "execution_count": null,
   "metadata": {
    "id": "mAzZv7U_naCH"
   },
   "outputs": [],
   "source": [
    "boolen_breed[0]"
   ]
  },
  {
   "cell_type": "code",
   "execution_count": null,
   "metadata": {
    "id": "3n03irQCtX6Q"
   },
   "outputs": [],
   "source": [
    "filename = [\"drive/MyDrive/dog-vision/train/\" + namejpg + \".jpg\" for namejpg in label_csv['id']]"
   ]
  },
  {
   "cell_type": "code",
   "execution_count": null,
   "metadata": {
    "id": "tRkCwNBYnjln"
   },
   "outputs": [],
   "source": [
    "Image(filename[0])"
   ]
  },
  {
   "cell_type": "markdown",
   "metadata": {
    "id": "xbuoj1d9xG-q"
   },
   "source": [
    "Check len label and image in train folder"
   ]
  },
  {
   "cell_type": "code",
   "execution_count": null,
   "metadata": {
    "id": "kiN2HZ5dxGwF"
   },
   "outputs": [],
   "source": [
    "len(os.listdir('/content/drive/MyDrive/dog-vision/train'))==len(filename)"
   ]
  },
  {
   "cell_type": "markdown",
   "metadata": {
    "id": "bhlpELI2o4k1"
   },
   "source": [
    "## Tạo bộ dữ liệu để train và validation"
   ]
  },
  {
   "cell_type": "code",
   "execution_count": null,
   "metadata": {
    "id": "Mru7etrPt3tM"
   },
   "outputs": [],
   "source": [
    "x = filename\n",
    "y = boolen_breed"
   ]
  },
  {
   "cell_type": "code",
   "execution_count": null,
   "metadata": {
    "id": "o4rAr0L6t84H"
   },
   "outputs": [],
   "source": [
    "NUM_IMAGE = 10000 #@param {type: \"slider\",min: 1000, max: 10000, step: 1000}"
   ]
  },
  {
   "cell_type": "code",
   "execution_count": null,
   "metadata": {
    "id": "06kQaLgxuKW4"
   },
   "outputs": [],
   "source": [
    "from sklearn.model_selection import train_test_split\n",
    "x_train, x_val , y_train ,y_val = train_test_split(x[:NUM_IMAGE],y[:NUM_IMAGE],test_size = 0.2,random_state = 40)"
   ]
  },
  {
   "cell_type": "markdown",
   "metadata": {
    "id": "3Ija72zfv0-a"
   },
   "source": [
    "## Tiền xử lý ảnh (-> numpy array) sau đó chuyển dữ liệu sang data batchs"
   ]
  },
  {
   "cell_type": "code",
   "execution_count": null,
   "metadata": {
    "id": "78jvadbDv-Du"
   },
   "outputs": [],
   "source": [
    "#size image define: 224 x 224\n",
    "IMG_SIZE = 224\n",
    "BATCH_SIZE = 32\n",
    "def process_image (image_path):\n",
    "  image = tf.io.read_file(image_path)\n",
    "  # giải mã hình ảnh theo 3 kênh màu RGB\n",
    "  image = tf.image.decode_jpeg(image, channels = 3)\n",
    "  # chuyển đổi từ hình ảnh sang số float\n",
    "  image = tf.image.convert_image_dtype(image, tf.float32)\n",
    "  #resize\n",
    "  image = tf.image.resize(image, size = [IMG_SIZE,IMG_SIZE])\n",
    "  return image\n",
    "\n",
    "def get_image_label(image,label):\n",
    "  image = process_image(image)\n",
    "  return image,label\n",
    "\n",
    "def data_batch(x, y = None, batch_size = BATCH_SIZE, val_data = False, test_data = False):\n",
    "  if test_data:\n",
    "    data = tf.data.Dataset.from_tensor_slices((tf.constant(x)))\n",
    "    data_batch = data.map(process_image).batch(batch_size)\n",
    "    return data_batch\n",
    "  elif val_data:\n",
    "    data = tf.data.Dataset.from_tensor_slices((tf.constant(x),tf.constant(y)))\n",
    "    data_batch = data.map(get_image_label).batch(batch_size)\n",
    "    return data_batch\n",
    "  else:\n",
    "    data = tf.data.Dataset.from_tensor_slices((tf.constant(x),tf.constant(y)))\n",
    "    data = data.shuffle(buffer_size = len(x))\n",
    "    data_batch = data.map(get_image_label).batch(batch_size)\n",
    "    return data_batch"
   ]
  },
  {
   "cell_type": "code",
   "execution_count": null,
   "metadata": {
    "id": "evqMt28Owr41"
   },
   "outputs": [],
   "source": [
    "data_train = data_batch(x= x_train,y = y_train)\n",
    "data_validation = data_batch(x = x_val,y = y_val,val_data = True)"
   ]
  },
  {
   "cell_type": "code",
   "execution_count": null,
   "metadata": {
    "id": "n1_Y_o85FXsk"
   },
   "outputs": [],
   "source": [
    "data_train.element_spec"
   ]
  },
  {
   "cell_type": "markdown",
   "metadata": {
    "id": "EzkK9MMzAVnD"
   },
   "source": [
    "## Visualize data batch"
   ]
  },
  {
   "cell_type": "code",
   "execution_count": null,
   "metadata": {
    "id": "iWpBVHPb9RPw"
   },
   "outputs": [],
   "source": [
    "def visualize_data_batch(data_batch):\n",
    "  image,label = next(data_batch.as_numpy_iterator())\n",
    "  plt.figure(figsize = (10,10))\n",
    "  for i in range(25):\n",
    "    ax = plt.subplot(5,5,i+1)\n",
    "    plt.imshow(image[i])\n",
    "    plt.title(np.unique(breed)[label[i].argmax()])\n",
    "    plt.axis('off')"
   ]
  },
  {
   "cell_type": "code",
   "execution_count": null,
   "metadata": {
    "id": "FIEXpY2Y9uET"
   },
   "outputs": [],
   "source": [
    "visualize_data_batch(data_train)"
   ]
  },
  {
   "cell_type": "markdown",
   "metadata": {
    "id": "Hb6vF2SyDAhb"
   },
   "source": [
    "## Chuẩn bị input, output và model"
   ]
  },
  {
   "cell_type": "code",
   "execution_count": null,
   "metadata": {
    "id": "zADc7DduD3wx"
   },
   "outputs": [],
   "source": [
    "INPUT_SHAPE = [224, 224, 3] \n",
    "OUTPUT_SHAPE = 120\n",
    "MODEL_URL = \"https://tfhub.dev/google/imagenet/efficientnet_v2_imagenet21k_ft1k_b0/classification/2\"\n",
    "def create_model (input_shape = INPUT_SHAPE, output_shape = OUTPUT_SHAPE, model_url = MODEL_URL):\n",
    "  print(\"building model: \", model_url)\n",
    "  model = tf.keras.Sequential([\n",
    "        hub.KerasLayer(model_url, input_shape = input_shape),\n",
    "        tf.keras.layers.Dense(units= output_shape,\n",
    "                              activation = 'softmax')\n",
    "        ])\n",
    "  model.compile(\n",
    "      loss = tf.keras.losses.CategoricalCrossentropy(),\n",
    "      optimizer= tf.keras.optimizers.Adam(),\n",
    "      metrics = ['accuracy']\n",
    "  )\n",
    "  return model"
   ]
  },
  {
   "cell_type": "code",
   "execution_count": null,
   "metadata": {
    "id": "hiSN2TjDKLQJ"
   },
   "outputs": [],
   "source": [
    "model = create_model()\n",
    "model.summary()"
   ]
  },
  {
   "cell_type": "markdown",
   "metadata": {
    "id": "f0mSlLfaN-2H"
   },
   "source": [
    "## Tạo các hàm callback"
   ]
  },
  {
   "cell_type": "code",
   "execution_count": null,
   "metadata": {
    "id": "bEHRrPstUTzP"
   },
   "outputs": [],
   "source": [
    "%load_ext tensorboard\n",
    "import datetime as dt\n",
    "def tensorboard_callback():\n",
    "  dir = os.path.join(\"drive/MyDrive/dog-vision/tensorboard/\",dt.datetime.now().strftime(\"%Y%m%d-%H%M%S\"))\n",
    "  return tf.keras.callbacks.TensorBoard(dir)\n",
    "\n",
    "early_stop = tf.keras.callbacks.EarlyStopping(monitor = 'val_accuracy',\n",
    "                                              patience = 3)\n"
   ]
  },
  {
   "cell_type": "code",
   "execution_count": null,
   "metadata": {
    "id": "zu3r2wO65yXB"
   },
   "outputs": [],
   "source": [
    "NUM_EPOCHS = 40 #@param {type: \"slider\", min: 10, max: 100, step: 10}"
   ]
  },
  {
   "cell_type": "code",
   "execution_count": null,
   "metadata": {
    "id": "Vzl0iXpcUg8M"
   },
   "outputs": [],
   "source": [
    "@tf.autograph.experimental.do_not_convert\n",
    "def train_model():\n",
    "  model = create_model()\n",
    "  tensorboard = tensorboard_callback()\n",
    "  model.fit(x= data_train,\n",
    "            epochs = NUM_EPOCHS,\n",
    "            validation_freq = 1,\n",
    "            validation_data = data_validation,\n",
    "            callbacks = [tensorboard,early_stop])\n",
    "  return model\n",
    "train_model()"
   ]
  },
  {
   "cell_type": "markdown",
   "metadata": {
    "id": "BiP5sAM-FX1s"
   },
   "source": [
    "## Đánh giá mô hình"
   ]
  },
  {
   "cell_type": "code",
   "execution_count": null,
   "metadata": {
    "id": "Ns9ZnjrrV-dV"
   },
   "outputs": [],
   "source": [
    "%tensorboard --logdir drive/MyDrive/dog-vision/tensorboard/"
   ]
  },
  {
   "cell_type": "markdown",
   "metadata": {
    "id": "zcQCZydRfNWt"
   },
   "source": [
    "## Visualize data prediction"
   ]
  },
  {
   "cell_type": "code",
   "execution_count": null,
   "metadata": {
    "id": "j6h8uf2lQmJg"
   },
   "outputs": [],
   "source": [
    "predict_dog = model.predict(data_validation)\n",
    "def unbatch(batch_data):\n",
    "  image_unbatch = []\n",
    "  label_unbatch = []\n",
    "  for image,label in batch_data.unbatch().as_numpy_iterator():\n",
    "    image_unbatch.append(image)\n",
    "    label_unbatch.append(label)\n",
    "  return image_unbatch,label_unbatch\n",
    "image_unbatch,label_unbatch = unbatch(data_validation)\n",
    "def visualize_data_predict(batch_data, position = 0):\n",
    "  plt.figure(figsize = (20,10))\n",
    "  ax = plt.subplot(1,2,1)\n",
    "  plt.imshow(image_unbatch[position])\n",
    "  plt.title(\"Predict:{} - {:0.2f}% \\n Actual:{}\".format(label[predict_dog[position].argmax()],\n",
    "                                                   predict_dog[position].max()*100,\n",
    "                                                   label[label_unbatch[position].argmax()]))\n",
    "  plt.axis(\"off\")\n",
    "  ax = plt.subplot(1,2,2)\n",
    "  propotion = np.argsort(predict_dog[position])[::-1]\n",
    "  index_top10 = propotion[:10]\n",
    "  label_top10 = label[index_top10]\n",
    "  value_top10 = predict_dog[position][index_top10]*100\n",
    "  plt_10 = plt.bar(x = label_top10,height = value_top10,color = \"Salmon\")\n",
    "  plt.xticks(rotation = 90)\n",
    "  plt.ylabel(\"Percent\")\n",
    "  plt.xlabel(\"type\")\n",
    "  if np.any(np.isin(label_top10,label[label_unbatch[position].argmax()])):\n",
    "    plt_10[np.isin(label_top10,label[label_unbatch[position].argmax()]).argmax()].set_color(\"lightBlue\")\n",
    "def find_true(predict,actual_batch):\n",
    "  arr = []\n",
    "  for i in range(len(predict)):\n",
    "    if label[predict[i].argmax()] == label[label_unbatch[i].argmax()]:\n",
    "      arr.append(i)\n",
    "  return arr\n"
   ]
  },
  {
   "cell_type": "code",
   "execution_count": null,
   "metadata": {
    "id": "k7g2ohi91UF2"
   },
   "outputs": [],
   "source": [
    "find_true(predict_dog,data_validation)"
   ]
  },
  {
   "cell_type": "code",
   "execution_count": null,
   "metadata": {
    "id": "18glhtmVbMR3"
   },
   "outputs": [],
   "source": [
    "visualize_data_predict(data_validation, position = 1590)"
   ]
  },
  {
   "cell_type": "markdown",
   "metadata": {
    "id": "qrqYDByNqLHq"
   },
   "source": [
    "## Save and reload"
   ]
  },
  {
   "cell_type": "code",
   "execution_count": null,
   "metadata": {
    "id": "Y-5Eww40vPdw"
   },
   "outputs": [],
   "source": [
    "\n",
    "def save_model(model,name = None, dir = None):\n",
    "  modeldir = os.path.join(dir,dt.datetime.now().strftime(\"%Y%m%d-%H%M%S\"))\n",
    "  model_path = modeldir + '-' + name + '.hb'\n",
    "  model.save(model_path)\n",
    "  print(\"Saved in:\")\n",
    "  return model_path\n",
    "def reload_model(model_path):\n",
    "  model = tf.keras.models.load_model(model_path,custom_objects = {\"Keraslayers\": hub.KerasLayer})\n",
    "  return model\n"
   ]
  },
  {
   "cell_type": "code",
   "execution_count": null,
   "metadata": {
    "id": "3wa0dLlkwI1A"
   },
   "outputs": [],
   "source": [
    "save_model(model,name = \"full_data\", dir = \"drive/MyDrive/dog-vision/model\")"
   ]
  }
 ],
 "metadata": {
  "accelerator": "GPU",
  "colab": {
   "authorship_tag": "ABX9TyOKcwV1F4c4DPnubDi+Tzbd",
   "cell_execution_strategy": "setup",
   "gpuType": "T4",
   "include_colab_link": true,
   "mount_file_id": "1X3Lr_tT85_qsShq16rAl8UIjzip8XAYm",
   "private_outputs": true,
   "provenance": []
  },
  "kernelspec": {
   "display_name": "Python 3 (ipykernel)",
   "language": "python",
   "name": "python3"
  },
  "language_info": {
   "codemirror_mode": {
    "name": "ipython",
    "version": 3
   },
   "file_extension": ".py",
   "mimetype": "text/x-python",
   "name": "python",
   "nbconvert_exporter": "python",
   "pygments_lexer": "ipython3",
   "version": "3.9.13"
  }
 },
 "nbformat": 4,
 "nbformat_minor": 1
}
