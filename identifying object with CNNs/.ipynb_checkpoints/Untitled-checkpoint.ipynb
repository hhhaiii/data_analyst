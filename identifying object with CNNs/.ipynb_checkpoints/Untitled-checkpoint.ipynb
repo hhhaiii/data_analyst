{
 "cells": [
  {
   "cell_type": "code",
   "execution_count": 1,
   "id": "1454a203",
   "metadata": {},
   "outputs": [],
   "source": [
    "from keras.datasets import cifar10\n",
    "from keras.utils import to_categorical\n",
    "from keras.models import Sequential\n",
    "from keras.layers import Conv2D\n",
    "from keras.layers import MaxPooling2D\n",
    "from keras.layers import Dense\n",
    "from keras.layers import Flatten\n",
    "from keras.layers import Dropout\n",
    "from keras.layers import BatchNormalization\n",
    "from keras.optimizers import Adam\n",
    "import numpy as np\n",
    "import matplotlib.pyplot as plt"
   ]
  },
  {
   "cell_type": "code",
   "execution_count": 2,
   "id": "dcaa693e",
   "metadata": {},
   "outputs": [],
   "source": [
    "(x_train,y_train),(x_test,y_test) = cifar10.load_data()"
   ]
  },
  {
   "cell_type": "markdown",
   "id": "68bd5f1f",
   "metadata": {},
   "source": [
    "## OneHot encoder labels\n",
    "* 0. airplane\n",
    "* 1. automobile\n",
    "* 2. bird\n",
    "* 3. cat\n",
    "* 4. deer\n",
    "* 5. dog\n",
    "* 6. frog\n",
    "* 7. horse\n",
    "* 8. ship\n",
    "* 9. truck"
   ]
  },
  {
   "cell_type": "code",
   "execution_count": 3,
   "id": "affaf36a",
   "metadata": {},
   "outputs": [],
   "source": [
    "y_train = to_categorical(y_train)\n",
    "y_test = to_categorical(y_test)\n",
    "y_dict = {0: 'airplane', 1: 'automobile', 2: 'bird',\n",
    "          3: 'cat', 4: 'deer',5: 'dog', 6: 'frog',\n",
    "          7: 'horse', 8: 'ship',9: 'truck'}"
   ]
  },
  {
   "cell_type": "code",
   "execution_count": 52,
   "id": "63c1a73b",
   "metadata": {},
   "outputs": [
    {
     "data": {
      "image/png": "[encoded data removed]",
      "text/plain": [
       "<Figure size 640x480 with 1 Axes>"
      ]
     },
     "metadata": {},
     "output_type": "display_data"
    }
   ],
   "source": [
    "def visualize_image(image,label,predict = np.zeros(5)):\n",
    "    plt.imshow(image)\n",
    "    if np.all(predict == 0) :\n",
    "        plt.title('actua: '+ y_dict.get(np.argmax(label))) \n",
    "    else:\n",
    "        plt.title('actua: '+ y_dict.get(np.argmax(label)) + \n",
    "                  ' predict: '+ y_dict.get(np.argmax(predict)) + \n",
    "                  '\\n probablity: %.3f' % (np.max(predict)*100))\n",
    "visualize_image(x_test[1],y_test[1])"
   ]
  },
  {
   "cell_type": "code",
   "execution_count": 5,
   "id": "ae689cec",
   "metadata": {},
   "outputs": [],
   "source": [
    "x_train = x_train/255.0\n",
    "x_test = x_test/255.0"
   ]
  },
  {
   "cell_type": "markdown",
   "id": "b20b23aa",
   "metadata": {},
   "source": [
    "## Constuct CNNs model"
   ]
  },
  {
   "cell_type": "code",
   "execution_count": 6,
   "id": "dcae8f48",
   "metadata": {},
   "outputs": [],
   "source": [
    "model = Sequential()\n",
    "# feature detection\n",
    "model.add(Conv2D(32,kernel_size = (3,3),activation = 'relu', padding = 'same', kernel_initializer='he_normal', input_shape = (32,32,3)))\n",
    "model.add(BatchNormalization())\n",
    "model.add(Conv2D(32,kernel_size = (3,3),activation = 'relu', padding = 'same', kernel_initializer='he_normal'))\n",
    "model.add(BatchNormalization())\n",
    "# pooling layer\n",
    "model.add(MaxPooling2D(pool_size=(2,2)))\n",
    "model.add(BatchNormalization())\n",
    "model.add(Dropout(0.2))\n",
    "# feature detection\n",
    "model.add(Conv2D(32,kernel_size = (3,3),activation = 'relu', padding = 'same', kernel_initializer='he_normal'))\n",
    "model.add(BatchNormalization())\n",
    "model.add(Conv2D(10,kernel_size = (3,3),activation = 'relu', padding = 'same', kernel_initializer='he_normal'))\n",
    "model.add(BatchNormalization())\n",
    "# pooling layer\n",
    "model.add(MaxPooling2D(pool_size=(2,2)))\n",
    "model.add(BatchNormalization())\n",
    "model.add(Dropout(0.2))\n",
    "# feature detection\n",
    "model.add(Conv2D(32,kernel_size = (3,3),activation = 'relu', padding = 'same', kernel_initializer='he_normal'))\n",
    "model.add(BatchNormalization())\n",
    "model.add(Conv2D(32,kernel_size = (3,3),activation = 'relu', padding = 'same', kernel_initializer='he_normal'))\n",
    "model.add(BatchNormalization())\n",
    "# pooling layer\n",
    "model.add(MaxPooling2D(pool_size=(2,2)))\n",
    "model.add(Dropout(0.3))\n",
    "model.add(BatchNormalization())\n",
    "model.add(Flatten())\n",
    "# Model\n",
    "model.add(Dense(128,activation = 'relu'))\n",
    "model.add(Dense(10,activation = 'softmax'))\n",
    "# build model\n",
    "optimizer = Adam()\n",
    "model.compile(loss = 'categorical_crossentropy',\n",
    "             optimizer = optimizer,\n",
    "             metrics = ['accuracy'])"
   ]
  },
  {
   "cell_type": "code",
   "execution_count": 8,
   "id": "eb31467b",
   "metadata": {
    "scrolled": true
   },
   "outputs": [
    {
     "name": "stdout",
     "output_type": "stream",
     "text": [
      "Epoch 1/50\n",
      "782/782 [==============================] - 148s 189ms/step - loss: 1.2294 - accuracy: 0.5605 - val_loss: 1.0504 - val_accuracy: 0.6162\n",
      "Epoch 2/50\n",
      "782/782 [==============================] - 147s 188ms/step - loss: 1.0022 - accuracy: 0.6434 - val_loss: 0.9951 - val_accuracy: 0.6400\n",
      "Epoch 3/50\n",
      "782/782 [==============================] - 146s 186ms/step - loss: 0.8926 - accuracy: 0.6832 - val_loss: 0.7919 - val_accuracy: 0.7138\n",
      "Epoch 4/50\n",
      "782/782 [==============================] - 145s 186ms/step - loss: 0.8202 - accuracy: 0.7094 - val_loss: 0.7610 - val_accuracy: 0.7237\n",
      "Epoch 5/50\n",
      "782/782 [==============================] - 146s 187ms/step - loss: 0.7666 - accuracy: 0.7283 - val_loss: 0.7714 - val_accuracy: 0.7362\n",
      "Epoch 6/50\n",
      "782/782 [==============================] - 146s 186ms/step - loss: 0.7231 - accuracy: 0.7432 - val_loss: 0.7774 - val_accuracy: 0.7200\n",
      "Epoch 7/50\n",
      "782/782 [==============================] - 146s 186ms/step - loss: 0.6867 - accuracy: 0.7590 - val_loss: 0.7270 - val_accuracy: 0.7588\n",
      "Epoch 8/50\n",
      "782/782 [==============================] - 146s 186ms/step - loss: 0.6510 - accuracy: 0.7696 - val_loss: 0.6739 - val_accuracy: 0.7688\n",
      "Epoch 9/50\n",
      "782/782 [==============================] - 146s 186ms/step - loss: 0.6222 - accuracy: 0.7790 - val_loss: 0.6265 - val_accuracy: 0.7837\n",
      "Epoch 10/50\n",
      "782/782 [==============================] - 146s 186ms/step - loss: 0.5993 - accuracy: 0.7871 - val_loss: 0.6215 - val_accuracy: 0.7875\n",
      "Epoch 11/50\n",
      "782/782 [==============================] - 146s 187ms/step - loss: 0.5728 - accuracy: 0.7967 - val_loss: 0.7025 - val_accuracy: 0.7588\n",
      "Epoch 12/50\n",
      "782/782 [==============================] - 146s 187ms/step - loss: 0.5613 - accuracy: 0.8004 - val_loss: 0.6007 - val_accuracy: 0.7950\n",
      "Epoch 13/50\n",
      "782/782 [==============================] - 146s 186ms/step - loss: 0.5412 - accuracy: 0.8081 - val_loss: 0.6361 - val_accuracy: 0.7937\n",
      "Epoch 14/50\n",
      "782/782 [==============================] - 146s 187ms/step - loss: 0.5251 - accuracy: 0.8150 - val_loss: 0.6293 - val_accuracy: 0.7837\n",
      "Epoch 15/50\n",
      "782/782 [==============================] - 146s 186ms/step - loss: 0.5120 - accuracy: 0.8183 - val_loss: 0.6181 - val_accuracy: 0.7937\n",
      "Epoch 16/50\n",
      "782/782 [==============================] - 146s 186ms/step - loss: 0.5031 - accuracy: 0.8218 - val_loss: 0.6168 - val_accuracy: 0.7912\n",
      "Epoch 17/50\n",
      "782/782 [==============================] - 146s 187ms/step - loss: 0.4872 - accuracy: 0.8258 - val_loss: 0.6004 - val_accuracy: 0.7950\n",
      "Epoch 18/50\n",
      "782/782 [==============================] - 1357s 2s/step - loss: 0.4765 - accuracy: 0.8312 - val_loss: 0.5778 - val_accuracy: 0.7887\n",
      "Epoch 19/50\n",
      "782/782 [==============================] - 149s 190ms/step - loss: 0.4640 - accuracy: 0.8349 - val_loss: 0.6060 - val_accuracy: 0.7850\n",
      "Epoch 20/50\n",
      "782/782 [==============================] - 145s 186ms/step - loss: 0.4506 - accuracy: 0.8393 - val_loss: 0.6023 - val_accuracy: 0.7937\n",
      "Epoch 21/50\n",
      "782/782 [==============================] - 146s 186ms/step - loss: 0.4437 - accuracy: 0.8430 - val_loss: 0.6116 - val_accuracy: 0.8062\n",
      "Epoch 22/50\n",
      "782/782 [==============================] - 146s 187ms/step - loss: 0.4367 - accuracy: 0.8445 - val_loss: 0.6182 - val_accuracy: 0.8012\n",
      "Epoch 23/50\n",
      "782/782 [==============================] - 146s 186ms/step - loss: 0.4257 - accuracy: 0.8480 - val_loss: 0.5970 - val_accuracy: 0.8075\n",
      "Epoch 24/50\n",
      "782/782 [==============================] - 146s 187ms/step - loss: 0.4135 - accuracy: 0.8524 - val_loss: 0.6316 - val_accuracy: 0.7962\n",
      "Epoch 25/50\n",
      "782/782 [==============================] - 146s 187ms/step - loss: 0.4115 - accuracy: 0.8527 - val_loss: 0.6526 - val_accuracy: 0.7937\n",
      "Epoch 26/50\n",
      "782/782 [==============================] - 147s 187ms/step - loss: 0.4030 - accuracy: 0.8554 - val_loss: 0.6259 - val_accuracy: 0.8112\n",
      "Epoch 27/50\n",
      "782/782 [==============================] - 146s 186ms/step - loss: 0.3986 - accuracy: 0.8585 - val_loss: 0.5819 - val_accuracy: 0.8050\n",
      "Epoch 28/50\n",
      "782/782 [==============================] - 146s 187ms/step - loss: 0.3840 - accuracy: 0.8626 - val_loss: 0.6151 - val_accuracy: 0.8138\n",
      "Epoch 29/50\n",
      "782/782 [==============================] - 146s 187ms/step - loss: 0.3837 - accuracy: 0.8610 - val_loss: 0.5925 - val_accuracy: 0.8050\n",
      "Epoch 30/50\n",
      "782/782 [==============================] - 146s 187ms/step - loss: 0.3796 - accuracy: 0.8639 - val_loss: 0.6102 - val_accuracy: 0.7987\n",
      "Epoch 31/50\n",
      "782/782 [==============================] - 146s 186ms/step - loss: 0.3769 - accuracy: 0.8651 - val_loss: 0.5964 - val_accuracy: 0.8125\n",
      "Epoch 32/50\n",
      "782/782 [==============================] - 147s 188ms/step - loss: 0.3681 - accuracy: 0.8674 - val_loss: 0.5431 - val_accuracy: 0.8250\n",
      "Epoch 33/50\n",
      "782/782 [==============================] - 147s 188ms/step - loss: 0.3612 - accuracy: 0.8701 - val_loss: 0.5969 - val_accuracy: 0.8188\n",
      "Epoch 34/50\n",
      "782/782 [==============================] - 147s 188ms/step - loss: 0.3565 - accuracy: 0.8710 - val_loss: 0.6196 - val_accuracy: 0.8150\n",
      "Epoch 35/50\n",
      "782/782 [==============================] - 147s 188ms/step - loss: 0.3515 - accuracy: 0.8748 - val_loss: 0.5928 - val_accuracy: 0.8012\n",
      "Epoch 36/50\n",
      "782/782 [==============================] - 147s 188ms/step - loss: 0.3511 - accuracy: 0.8741 - val_loss: 0.6176 - val_accuracy: 0.8163\n",
      "Epoch 37/50\n",
      "782/782 [==============================] - 147s 188ms/step - loss: 0.3432 - accuracy: 0.8774 - val_loss: 0.6442 - val_accuracy: 0.8200\n",
      "Epoch 38/50\n",
      "782/782 [==============================] - 147s 188ms/step - loss: 0.3281 - accuracy: 0.8824 - val_loss: 0.6086 - val_accuracy: 0.8087\n",
      "Epoch 39/50\n",
      "782/782 [==============================] - 147s 187ms/step - loss: 0.3347 - accuracy: 0.8791 - val_loss: 0.6273 - val_accuracy: 0.8150\n",
      "Epoch 40/50\n",
      "782/782 [==============================] - 147s 187ms/step - loss: 0.3259 - accuracy: 0.8817 - val_loss: 0.5826 - val_accuracy: 0.8075\n",
      "Epoch 41/50\n",
      "782/782 [==============================] - 147s 187ms/step - loss: 0.3223 - accuracy: 0.8845 - val_loss: 0.6198 - val_accuracy: 0.7975\n",
      "Epoch 42/50\n",
      "782/782 [==============================] - 147s 188ms/step - loss: 0.3205 - accuracy: 0.8848 - val_loss: 0.5868 - val_accuracy: 0.8062\n",
      "Epoch 43/50\n",
      "782/782 [==============================] - 147s 188ms/step - loss: 0.3168 - accuracy: 0.8858 - val_loss: 0.6439 - val_accuracy: 0.8037\n",
      "Epoch 44/50\n",
      "782/782 [==============================] - 147s 188ms/step - loss: 0.3170 - accuracy: 0.8853 - val_loss: 0.6022 - val_accuracy: 0.8100\n",
      "Epoch 45/50\n",
      "782/782 [==============================] - 148s 189ms/step - loss: 0.3112 - accuracy: 0.8877 - val_loss: 0.6753 - val_accuracy: 0.7925\n",
      "Epoch 46/50\n",
      "782/782 [==============================] - 146s 187ms/step - loss: 0.3066 - accuracy: 0.8905 - val_loss: 0.6964 - val_accuracy: 0.7937\n",
      "Epoch 47/50\n",
      "782/782 [==============================] - 152s 195ms/step - loss: 0.3063 - accuracy: 0.8896 - val_loss: 0.6054 - val_accuracy: 0.8025\n",
      "Epoch 48/50\n",
      "782/782 [==============================] - 146s 187ms/step - loss: 0.3006 - accuracy: 0.8921 - val_loss: 0.6119 - val_accuracy: 0.8075\n",
      "Epoch 49/50\n",
      "782/782 [==============================] - 149s 191ms/step - loss: 0.3008 - accuracy: 0.8918 - val_loss: 0.6317 - val_accuracy: 0.8087\n",
      "Epoch 50/50\n",
      "782/782 [==============================] - 148s 189ms/step - loss: 0.2967 - accuracy: 0.8934 - val_loss: 0.6599 - val_accuracy: 0.7962\n"
     ]
    },
    {
     "data": {
      "text/plain": [
       "<keras.src.callbacks.History at 0x1cf1a7c9070>"
      ]
     },
     "execution_count": 8,
     "metadata": {},
     "output_type": "execute_result"
    }
   ],
   "source": [
    "model.fit(x_train,y_train,batch_size = 64, epochs = 50,validation_data=(x_test,y_test))"
   ]
  },
  {
   "cell_type": "code",
   "execution_count": 13,
   "id": "b2a267c9",
   "metadata": {},
   "outputs": [
    {
     "name": "stdout",
     "output_type": "stream",
     "text": [
      "313/313 [==============================] - 4s 14ms/step\n"
     ]
    }
   ],
   "source": [
    "y_pred = model.predict(x_test)"
   ]
  },
  {
   "cell_type": "code",
   "execution_count": 56,
   "id": "59a5eed9",
   "metadata": {},
   "outputs": [
    {
     "data": {
      "image/png": "[encoded data removed]",
      "text/plain": [
       "<Figure size 640x480 with 1 Axes>"
      ]
     },
     "metadata": {},
     "output_type": "display_data"
    }
   ],
   "source": [
    "visualize_image(x_test[16],y_test[16],y_pred[16])"
   ]
  }
 ],
 "metadata": {
  "kernelspec": {
   "display_name": "Python 3 (ipykernel)",
   "language": "python",
   "name": "python3"
  },
  "language_info": {
   "codemirror_mode": {
    "name": "ipython",
    "version": 3
   },
   "file_extension": ".py",
   "mimetype": "text/x-python",
   "name": "python",
   "nbconvert_exporter": "python",
   "pygments_lexer": "ipython3",
   "version": "3.9.13"
  }
 },
 "nbformat": 4,
 "nbformat_minor": 5
}
